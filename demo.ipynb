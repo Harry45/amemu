{
 "cells": [
  {
   "cell_type": "markdown",
   "metadata": {},
   "source": [
    "# Generate the Training Points"
   ]
  },
  {
   "cell_type": "code",
   "execution_count": 17,
   "metadata": {},
   "outputs": [],
   "source": [
    "from trainingpoints import pk_linear"
   ]
  },
  {
   "cell_type": "code",
   "execution_count": 18,
   "metadata": {},
   "outputs": [],
   "source": [
    "NLHS = 500\n",
    "cosmos, pkl = pk_linear(f'lhs_{NLHS}')"
   ]
  },
  {
   "cell_type": "markdown",
   "metadata": {},
   "source": [
    "# Test Gaussian Process"
   ]
  },
  {
   "cell_type": "code",
   "execution_count": 1,
   "metadata": {},
   "outputs": [],
   "source": [
    "import pandas as pd\n",
    "import torch\n",
    "import matplotlib.pylab as plt\n",
    "\n",
    "# our script and functions\n",
    "import utils.helpers as hp\n",
    "from src.gp.gaussianprocess import GaussianProcess\n",
    "import config as CONFIG\n",
    "import src.cosmology as sc\n",
    "\n",
    "# plotting tricks \n",
    "plt.rc(\"text\", usetex=True)\n",
    "plt.rc(\"font\", **{\"family\": \"sans-serif\", \"serif\": [\"Palatino\"]})\n",
    "fontSize = 20"
   ]
  },
  {
   "cell_type": "code",
   "execution_count": 2,
   "metadata": {},
   "outputs": [],
   "source": [
    "NITER = 1000\n",
    "LR = 0.01\n",
    "NRES = 2\n",
    "NLHS = 500"
   ]
  },
  {
   "cell_type": "code",
   "execution_count": 3,
   "metadata": {},
   "outputs": [],
   "source": [
    "inputs = hp.load_csv('data', f'cosmologies_lhs_{NLHS}')\n",
    "outputs = hp.load_csv('data', f'pk_linear_lhs_{NLHS}')"
   ]
  },
  {
   "cell_type": "code",
   "execution_count": 4,
   "metadata": {},
   "outputs": [],
   "source": [
    "ins = torch.from_numpy(inputs.values)\n",
    "out = torch.from_numpy(outputs.iloc[:,0].values)"
   ]
  },
  {
   "cell_type": "code",
   "execution_count": 5,
   "metadata": {},
   "outputs": [],
   "source": [
    "test = GaussianProcess(ins, out, jitter = 1E-10)\n",
    "opt = test.optimisation(torch.randn(ins.shape[1]+1), niter = NITER, lrate = LR, nrestart = NRES)"
   ]
  },
  {
   "cell_type": "code",
   "execution_count": 6,
   "metadata": {},
   "outputs": [
    {
     "data": {
      "image/png": "[encoded data removed]",
      "text/plain": [
       "<Figure size 576x576 with 1 Axes>"
      ]
     },
     "metadata": {
      "needs_background": "light"
     },
     "output_type": "display_data"
    }
   ],
   "source": [
    "plt.figure(figsize = (8,8))\n",
    "for i in range(len(opt)):  \n",
    "    plt.plot(range(NITER + 1), opt[i]['loss'])\n",
    "plt.xlim(0, NITER + 1)\n",
    "plt.xlabel(\"Iterations\", fontsize=fontSize)\n",
    "plt.ylabel(\"Loss\", fontsize=fontSize)\n",
    "plt.tick_params(axis=\"x\", labelsize=fontSize)\n",
    "plt.tick_params(axis=\"y\", labelsize=fontSize)\n",
    "plt.show()"
   ]
  },
  {
   "cell_type": "code",
   "execution_count": 7,
   "metadata": {},
   "outputs": [
    {
     "data": {
      "text/plain": [
       "tensor([0.1497, 0.0330, 0.7362, 4.1013], dtype=torch.float64)"
      ]
     },
     "execution_count": 7,
     "metadata": {},
     "output_type": "execute_result"
    }
   ],
   "source": [
    "ins[0]"
   ]
  },
  {
   "cell_type": "code",
   "execution_count": 8,
   "metadata": {},
   "outputs": [
    {
     "data": {
      "text/plain": [
       "tensor(1.7986, dtype=torch.float64)"
      ]
     },
     "execution_count": 8,
     "metadata": {},
     "output_type": "execute_result"
    }
   ],
   "source": [
    "test.ystd"
   ]
  },
  {
   "cell_type": "code",
   "execution_count": 9,
   "metadata": {},
   "outputs": [
    {
     "data": {
      "text/plain": [
       "tensor(5.0889, dtype=torch.float64)"
      ]
     },
     "execution_count": 9,
     "metadata": {},
     "output_type": "execute_result"
    }
   ],
   "source": [
    "test.ymean"
   ]
  },
  {
   "cell_type": "code",
   "execution_count": 10,
   "metadata": {},
   "outputs": [],
   "source": [
    "# parameter = {'Omega_cdm': 0.25, 'Omega_b': 0.04, 'h':0.70, 'z': 0.25}\n",
    "point = torch.tensor([0.25, 0.04, 0.70, 0.25])"
   ]
  },
  {
   "cell_type": "code",
   "execution_count": 11,
   "metadata": {},
   "outputs": [
    {
     "name": "stdout",
     "output_type": "stream",
     "text": [
      "CPU times: user 516 µs, sys: 179 µs, total: 695 µs\n",
      "Wall time: 486 µs\n"
     ]
    },
    {
     "data": {
      "text/plain": [
       "tensor([1033.8930], dtype=torch.float64)"
      ]
     },
     "execution_count": 11,
     "metadata": {},
     "output_type": "execute_result"
    }
   ],
   "source": [
    "%%time\n",
    "test.predict_mean(point)"
   ]
  },
  {
   "cell_type": "code",
   "execution_count": 12,
   "metadata": {},
   "outputs": [
    {
     "name": "stdout",
     "output_type": "stream",
     "text": [
      "CPU times: user 10.2 ms, sys: 0 ns, total: 10.2 ms\n",
      "Wall time: 2.07 ms\n"
     ]
    }
   ],
   "source": [
    "%%time\n",
    "mean, var = test.predict_mean_var(point)"
   ]
  },
  {
   "cell_type": "code",
   "execution_count": 13,
   "metadata": {},
   "outputs": [
    {
     "data": {
      "text/plain": [
       "tensor([1033.8930], dtype=torch.float64)"
      ]
     },
     "execution_count": 13,
     "metadata": {},
     "output_type": "execute_result"
    }
   ],
   "source": [
    "mean"
   ]
  },
  {
   "cell_type": "code",
   "execution_count": 14,
   "metadata": {},
   "outputs": [
    {
     "data": {
      "text/plain": [
       "tensor([0.0934], dtype=torch.float64)"
      ]
     },
     "execution_count": 14,
     "metadata": {},
     "output_type": "execute_result"
    }
   ],
   "source": [
    "torch.sqrt(var)"
   ]
  },
  {
   "cell_type": "code",
   "execution_count": 15,
   "metadata": {},
   "outputs": [
    {
     "name": "stdout",
     "output_type": "stream",
     "text": [
      "tensor([1033.6128], dtype=torch.float64) tensor([1034.1731], dtype=torch.float64)\n"
     ]
    }
   ],
   "source": [
    "print(mean - 3*torch.sqrt(var), mean + 3*torch.sqrt(var))"
   ]
  },
  {
   "cell_type": "code",
   "execution_count": 16,
   "metadata": {},
   "outputs": [
    {
     "name": "stdout",
     "output_type": "stream",
     "text": [
      "CPU times: user 4.04 ms, sys: 1.4 ms, total: 5.44 ms\n",
      "Wall time: 809 µs\n"
     ]
    },
    {
     "data": {
      "text/plain": [
       "tensor([-11064.6777,   2470.4670,  -9312.0869,  -1056.2693])"
      ]
     },
     "execution_count": 16,
     "metadata": {},
     "output_type": "execute_result"
    }
   ],
   "source": [
    "%%time\n",
    "test.gradient(point)"
   ]
  },
  {
   "cell_type": "code",
   "execution_count": 17,
   "metadata": {},
   "outputs": [
    {
     "name": "stdout",
     "output_type": "stream",
     "text": [
      "CPU times: user 2.28 ms, sys: 11.4 ms, total: 13.7 ms\n",
      "Wall time: 2.72 ms\n"
     ]
    },
    {
     "data": {
      "text/plain": [
       "tensor([[166806.1562, -24187.3164, 100583.7344,   9705.2617],\n",
       "        [-24187.3184, -10663.9531, -14599.6768,  -4285.7383],\n",
       "        [100583.7344, -14599.6768,  97873.6641,   9440.9512],\n",
       "        [  9705.2617,  -4285.7383,   9440.9512,   1137.2081]])"
      ]
     },
     "execution_count": 17,
     "metadata": {},
     "output_type": "execute_result"
    }
   ],
   "source": [
    "%%time\n",
    "test.hessian(point)"
   ]
  },
  {
   "cell_type": "code",
   "execution_count": 18,
   "metadata": {},
   "outputs": [],
   "source": [
    "module = sc.PowerSpectrum(CONFIG.Z_MIN, CONFIG.Z_MAX, CONFIG.K_MIN, CONFIG.K_MAX)\n",
    "parameter = {'sigma8': CONFIG.FIX_SIGMA8, 'Omega_cdm': 0.25, 'Omega_b': 0.04, 'h': 0.70, 'n_s': CONFIG.FIX_NS}\n",
    "plin = module.pk_linear(cosmology=parameter, redshift = 0.25)"
   ]
  },
  {
   "cell_type": "code",
   "execution_count": 19,
   "metadata": {},
   "outputs": [
    {
     "data": {
      "text/plain": [
       "1034.0753471121718"
      ]
     },
     "execution_count": 19,
     "metadata": {},
     "output_type": "execute_result"
    }
   ],
   "source": [
    "plin[0]"
   ]
  },
  {
   "cell_type": "code",
   "execution_count": null,
   "metadata": {},
   "outputs": [],
   "source": [
    "EPS = 1E-3\n",
    "parameter_p = {'sigma8': CONFIG.FIX_SIGMA8, 'Omega_cdm': 0.25+EPS, 'Omega_b': 0.04, \n",
    "               'h': 0.70, 'n_s': CONFIG.FIX_NS}\n",
    "parameter_m = {'sigma8': CONFIG.FIX_SIGMA8, 'Omega_cdm': 0.25-EPS, 'Omega_b': 0.04, \n",
    "               'h': 0.70, 'n_s': CONFIG.FIX_NS}\n",
    "plin_p = module.pk_linear(cosmology=parameter_p, redshift = 0.25)\n",
    "plin_m = module.pk_linear(cosmology=parameter_m, redshift = 0.25)"
   ]
  },
  {
   "cell_type": "code",
   "execution_count": 21,
   "metadata": {},
   "outputs": [],
   "source": [
    "class_grad = (plin_p - plin_m) / (2 * EPS)"
   ]
  },
  {
   "cell_type": "code",
   "execution_count": 22,
   "metadata": {},
   "outputs": [
    {
     "data": {
      "text/plain": [
       "-11071.8337939731"
      ]
     },
     "execution_count": 22,
     "metadata": {},
     "output_type": "execute_result"
    }
   ],
   "source": [
    "class_grad[0]"
   ]
  },
  {
   "cell_type": "markdown",
   "metadata": {},
   "source": [
    "# Testing\n",
    "\n",
    "Here I am testing the equation David shared:\n",
    "\n",
    "$$\n",
    "P(k,z,\\sigma_{8},n_{s}, \\theta) = \\left(\\dfrac{\\sigma_{8}}{\\sigma_{8*}}\\right)^{2}\\,\\left(\\dfrac{k}{k_{\\textrm{pivot}}}\\right)^{n_{s}-n_{s*}}\\,P(k,z,\\sigma_{8*},n_{s*}, \\theta)\n",
    "$$"
   ]
  },
  {
   "cell_type": "code",
   "execution_count": 1,
   "metadata": {},
   "outputs": [],
   "source": [
    "import matplotlib.pylab as plt \n",
    "\n",
    "import src.cosmology as sc\n",
    "import config as CONFIG\n",
    "\n",
    "# plotting tricks \n",
    "plt.rc(\"text\", usetex=True)\n",
    "plt.rc(\"font\", **{\"family\": \"sans-serif\", \"serif\": [\"Palatino\"]})\n",
    "fontSize = 20"
   ]
  },
  {
   "cell_type": "code",
   "execution_count": 2,
   "metadata": {},
   "outputs": [],
   "source": [
    "module = sc.PowerSpectrum(CONFIG.Z_MIN, CONFIG.Z_MAX, CONFIG.K_MIN, CONFIG.K_MAX)\n",
    "parameter = {'sigma8': 0.857570, 'Omega_cdm': 0.217284, 'Omega_b': 0.038872, 'h': 0.711447, 'n_s': 1.001982}\n",
    "plin = module.pk_linear(cosmology=parameter)"
   ]
  },
  {
   "cell_type": "code",
   "execution_count": 3,
   "metadata": {},
   "outputs": [],
   "source": [
    "parameter2 = {'sigma8': 0.8, 'Omega_cdm': 0.217284, 'Omega_b': 0.038872, 'h': 0.711447, 'n_s': 1.00}\n",
    "plin2 = module.pk_linear(cosmology=parameter2)"
   ]
  },
  {
   "cell_type": "code",
   "execution_count": 7,
   "metadata": {},
   "outputs": [],
   "source": [
    "testing = (parameter['sigma8']/parameter2['sigma8'])**2 * (module.wavenumber/0.05)**(parameter['n_s'] - parameter2['n_s']) * plin2"
   ]
  },
  {
   "cell_type": "code",
   "execution_count": 11,
   "metadata": {},
   "outputs": [
    {
     "data": {
      "text/plain": [
       "array([0.99842953, 0.99842953, 0.99842953, 0.99842953, 0.99842953,\n",
       "       0.99842953, 0.99842953, 0.99842953, 0.99842953, 0.99842953,\n",
       "       0.99842953, 0.99842953, 0.99842953, 0.99842953, 0.99842953,\n",
       "       0.99842953, 0.99842953, 0.99842953, 0.99842953, 0.99842953,\n",
       "       0.99842953, 0.99842953, 0.99842953, 0.99842953, 0.99842953,\n",
       "       0.99842953, 0.99842953, 0.99842953, 0.99842953, 0.99842953,\n",
       "       0.99842953, 0.99842953, 0.99842953, 0.99842953, 0.99842953,\n",
       "       0.99842953, 0.99842953, 0.99842953, 0.99842953, 0.99842953])"
      ]
     },
     "execution_count": 11,
     "metadata": {},
     "output_type": "execute_result"
    }
   ],
   "source": [
    "plin/testing"
   ]
  },
  {
   "cell_type": "code",
   "execution_count": 10,
   "metadata": {},
   "outputs": [
    {
     "data": {
      "image/png": "[encoded data removed]",
      "text/plain": [
       "<Figure size 576x576 with 1 Axes>"
      ]
     },
     "metadata": {},
     "output_type": "display_data"
    }
   ],
   "source": [
    "plt.figure(figsize = (8,8))\n",
    "plt.loglog(module.wavenumber, plin, lw = 2)\n",
    "plt.loglog(module.wavenumber, testing, lw = 2, linestyle = '--')\n",
    "plt.xlim(module.k_min, module.k_max)\n",
    "plt.ylabel(r'$P_{\\textrm{lin}}(k,z=0)$', fontsize = fontSize)\n",
    "plt.xlabel(r'$k\\,[\\textrm{Mpc}^{-1}]$', fontsize = fontSize)\n",
    "plt.tick_params(axis='x', labelsize=fontSize)\n",
    "plt.tick_params(axis='y', labelsize=fontSize)\n",
    "plt.show()"
   ]
  },
  {
   "cell_type": "markdown",
   "metadata": {},
   "source": [
    "# Train GPs"
   ]
  },
  {
   "cell_type": "code",
   "execution_count": 1,
   "metadata": {},
   "outputs": [],
   "source": [
    "from src.gp.training import train_gps\n",
    "import config as CONFIG"
   ]
  },
  {
   "cell_type": "code",
   "execution_count": 2,
   "metadata": {},
   "outputs": [],
   "source": [
    "CONFIG.LEARN_RATE = 1e-2\n",
    "CONFIG.NRESTART = 2\n",
    "CONFIG.NITER = 1000"
   ]
  },
  {
   "cell_type": "code",
   "execution_count": 3,
   "metadata": {},
   "outputs": [
    {
     "name": "stdout",
     "output_type": "stream",
     "text": [
      "Training GP 1\n",
      "Training GP 2\n",
      "Training GP 3\n",
      "Training GP 4\n",
      "Training GP 5\n",
      "Training GP 6\n",
      "Training GP 7\n",
      "Training GP 8\n",
      "Training GP 9\n",
      "Training GP 10\n",
      "Training GP 11\n",
      "Training GP 12\n",
      "Training GP 13\n",
      "Training GP 14\n",
      "Training GP 15\n",
      "Training GP 16\n",
      "Training GP 17\n",
      "Training GP 18\n",
      "Training GP 19\n",
      "Training GP 20\n",
      "Training GP 21\n",
      "Training GP 22\n",
      "Training GP 23\n",
      "Training GP 24\n",
      "Training GP 25\n",
      "Training GP 26\n",
      "Training GP 27\n",
      "Training GP 28\n",
      "Training GP 29\n",
      "Training GP 30\n",
      "Training GP 31\n",
      "Training GP 32\n",
      "Training GP 33\n",
      "Training GP 34\n",
      "Training GP 35\n",
      "Training GP 36\n",
      "Training GP 37\n",
      "Training GP 38\n",
      "Training GP 39\n",
      "Training GP 40\n",
      "CPU times: user 1h 10min 8s, sys: 16.9 s, total: 1h 10min 25s\n",
      "Wall time: 9min 47s\n"
     ]
    }
   ],
   "source": [
    "%%time\n",
    "gps = train_gps(500, jitter = 1E-10)"
   ]
  },
  {
   "cell_type": "markdown",
   "metadata": {},
   "source": [
    "# Load GPs and Make Predictions"
   ]
  },
  {
   "cell_type": "code",
   "execution_count": 11,
   "metadata": {},
   "outputs": [],
   "source": [
    "import torch\n",
    "import utils.helpers as hp \n",
    "import config as CONFIG\n",
    "\n",
    "NLHS = 500\n",
    "# parameter = {'Omega_cdm': 0.25, 'Omega_b': 0.04, 'h':0.70, 'z': 0.25}\n",
    "param = [0.25, 0.04, 0.70, 0.25]"
   ]
  },
  {
   "cell_type": "code",
   "execution_count": 8,
   "metadata": {},
   "outputs": [],
   "source": [
    "gps = list()\n",
    "\n",
    "for i in range(CONFIG.NWAVE):\n",
    "    gp = hp.load_list(f\"gps/{NLHS}\", f\"pk_linear_lhs_{NLHS}_wave_{i}\")\n",
    "    gps.append(gp)"
   ]
  },
  {
   "cell_type": "code",
   "execution_count": 13,
   "metadata": {},
   "outputs": [],
   "source": [
    "preds = list()\n",
    "\n",
    "for i in range(CONFIG.NWAVE):\n",
    "    pred = gps[i].predict_mean(torch.tensor(param)).data[0].item()\n",
    "    preds.append(pred)"
   ]
  },
  {
   "cell_type": "markdown",
   "metadata": {},
   "source": [
    "### Compare with CLASS"
   ]
  },
  {
   "cell_type": "code",
   "execution_count": 14,
   "metadata": {},
   "outputs": [],
   "source": [
    "import matplotlib.pylab as plt\n",
    "import src.cosmology as sc\n",
    "\n",
    "# plotting tricks \n",
    "plt.rc(\"text\", usetex=True)\n",
    "plt.rc(\"font\", **{\"family\": \"sans-serif\", \"serif\": [\"Palatino\"]})\n",
    "fontSize = 20"
   ]
  },
  {
   "cell_type": "code",
   "execution_count": 15,
   "metadata": {},
   "outputs": [],
   "source": [
    "module = sc.PowerSpectrum(CONFIG.Z_MIN, CONFIG.Z_MAX, CONFIG.K_MIN, CONFIG.K_MAX)\n",
    "parameter = {'Omega_cdm': param[0], 'Omega_b': param[1], \n",
    "             'sigma8': CONFIG.FIX_SIGMA8, 'n_s': CONFIG.FIX_NS, 'h':param[2]}\n",
    "plin = module.pk_linear(cosmology=parameter, redshift = param[3])"
   ]
  },
  {
   "cell_type": "code",
   "execution_count": 16,
   "metadata": {},
   "outputs": [
    {
     "data": {
      "image/png": "[encoded data removed]",
      "text/plain": [
       "<Figure size 576x576 with 1 Axes>"
      ]
     },
     "metadata": {
      "needs_background": "light"
     },
     "output_type": "display_data"
    }
   ],
   "source": [
    "plt.figure(figsize = (8,8))\n",
    "plt.loglog(module.wavenumber, plin, lw = 4, label = 'CLASS')\n",
    "plt.loglog(module.wavenumber, preds, lw = 4, label = 'GP', linestyle = '--')\n",
    "plt.xlim(module.k_min, module.k_max)\n",
    "plt.ylabel(r'$P_{\\textrm{lin}}(k,z=0)$', fontsize = fontSize)\n",
    "plt.xlabel(r'$k\\,[\\textrm{Mpc}^{-1}]$', fontsize = fontSize)\n",
    "plt.tick_params(axis='x', labelsize=fontSize)\n",
    "plt.tick_params(axis='y', labelsize=fontSize)\n",
    "plt.legend(loc = 'best',prop={'family':'sans-serif', 'size':15})\n",
    "plt.show()"
   ]
  },
  {
   "cell_type": "markdown",
   "metadata": {},
   "source": [
    "# Points from the Prior"
   ]
  },
  {
   "cell_type": "code",
   "execution_count": 17,
   "metadata": {},
   "outputs": [],
   "source": [
    "import torch\n",
    "import numpy as np\n",
    "import matplotlib.pylab as plt\n",
    "\n",
    "# our scripts and functions\n",
    "import utils.helpers as hp \n",
    "import src.cosmology as sc\n",
    "from trainingpoints import generate_prior\n",
    "import config as CONFIG\n",
    "\n",
    "# plotting tricks \n",
    "plt.rc(\"text\", usetex=True)\n",
    "plt.rc(\"font\", **{\"family\": \"sans-serif\", \"serif\": [\"Palatino\"]})\n",
    "fontSize = 20"
   ]
  },
  {
   "cell_type": "markdown",
   "metadata": {},
   "source": [
    "Load all the GPs"
   ]
  },
  {
   "cell_type": "code",
   "execution_count": 18,
   "metadata": {},
   "outputs": [],
   "source": [
    "NLHS = 500\n",
    "gps = list()\n",
    "\n",
    "for i in range(CONFIG.NWAVE):\n",
    "    gp = hp.load_list(f\"gps/{NLHS}\", f\"pk_linear_lhs_{NLHS}_wave_{i}\")\n",
    "    gps.append(gp)"
   ]
  },
  {
   "cell_type": "markdown",
   "metadata": {},
   "source": [
    "Generate class for computing the linear matter power spectrum with CLASS."
   ]
  },
  {
   "cell_type": "code",
   "execution_count": 19,
   "metadata": {},
   "outputs": [],
   "source": [
    "module = sc.PowerSpectrum(CONFIG.Z_MIN, CONFIG.Z_MAX, CONFIG.K_MIN, CONFIG.K_MAX)"
   ]
  },
  {
   "cell_type": "markdown",
   "metadata": {},
   "source": [
    "Generate the prior distributions"
   ]
  },
  {
   "cell_type": "code",
   "execution_count": 20,
   "metadata": {},
   "outputs": [],
   "source": [
    "# create an empty list to store the distributions\n",
    "priors = {}\n",
    "\n",
    "for param in CONFIG.COSMO:\n",
    "    priors[param] = generate_prior(CONFIG.PRIORS[param])"
   ]
  },
  {
   "cell_type": "markdown",
   "metadata": {},
   "source": [
    "Function to generate points from the prior."
   ]
  },
  {
   "cell_type": "code",
   "execution_count": 21,
   "metadata": {},
   "outputs": [],
   "source": [
    "def generate_points(priors: dict, number: int = 100) -> list:\n",
    "    points = list()\n",
    "    \n",
    "    for i in range(number):\n",
    "        point = {}\n",
    "        \n",
    "        for param in CONFIG.COSMO:\n",
    "            point[param] = priors[param].rvs()\n",
    "            \n",
    "        points.append(point)\n",
    "        \n",
    "    return points"
   ]
  },
  {
   "cell_type": "markdown",
   "metadata": {},
   "source": [
    "Function to make predictions using the emulator, given the list of GPs and the inputs (points)."
   ]
  },
  {
   "cell_type": "code",
   "execution_count": 22,
   "metadata": {},
   "outputs": [],
   "source": [
    "def emulator_predictions(gps: list, points: list) -> list:\n",
    "    \n",
    "    npoints = len(points)\n",
    "    predictions = list()\n",
    "    \n",
    "    for p in range(npoints):\n",
    "        preds = list()\n",
    "        param = list(points[p].values())\n",
    "        for i in range(CONFIG.NWAVE):\n",
    "            pred = gps[i].predict_mean(torch.tensor(param)).data[0].item()\n",
    "            preds.append(pred)\n",
    "        predictions.append(preds)\n",
    "    return predictions"
   ]
  },
  {
   "cell_type": "markdown",
   "metadata": {},
   "source": [
    "Function to make predictions using the simulator (CLASS) given the inputs (points)."
   ]
  },
  {
   "cell_type": "code",
   "execution_count": 33,
   "metadata": {},
   "outputs": [],
   "source": [
    "def simulator_predictions(points: list) -> list:\n",
    "    npoints = len(points)\n",
    "    predictions = list()\n",
    "    for p in range(npoints):\n",
    "        parameter = {'Omega_cdm': points[p]['Omega_cdm'], 'Omega_b': points[p]['Omega_b'], \n",
    "             'sigma8': CONFIG.FIX_SIGMA8, 'n_s': CONFIG.FIX_NS, 'h':points[p]['h']}\n",
    "        plin = module.pk_linear(cosmology = parameter, redshift = points[p]['z'])\n",
    "        predictions.append(plin)\n",
    "    return predictions"
   ]
  },
  {
   "cell_type": "markdown",
   "metadata": {},
   "source": [
    "### Quick Test"
   ]
  },
  {
   "cell_type": "code",
   "execution_count": 24,
   "metadata": {},
   "outputs": [],
   "source": [
    "points = generate_points(priors, 3)"
   ]
  },
  {
   "cell_type": "code",
   "execution_count": 25,
   "metadata": {},
   "outputs": [
    {
     "name": "stdout",
     "output_type": "stream",
     "text": [
      "CPU times: user 48.2 ms, sys: 3.99 ms, total: 52.2 ms\n",
      "Wall time: 50.3 ms\n"
     ]
    }
   ],
   "source": [
    "%%time\n",
    "emu_preds = emulator_predictions(gps, points)"
   ]
  },
  {
   "cell_type": "code",
   "execution_count": 34,
   "metadata": {},
   "outputs": [
    {
     "name": "stdout",
     "output_type": "stream",
     "text": [
      "CPU times: user 1min 27s, sys: 83.6 ms, total: 1min 27s\n",
      "Wall time: 13.7 s\n"
     ]
    }
   ],
   "source": [
    "%%time\n",
    "sim_preds = simulator_predictions(points)"
   ]
  },
  {
   "cell_type": "code",
   "execution_count": 53,
   "metadata": {},
   "outputs": [
    {
     "data": {
      "image/png": "[encoded data removed]",
      "text/plain": [
       "<Figure size 1440x360 with 3 Axes>"
      ]
     },
     "metadata": {
      "needs_background": "light"
     },
     "output_type": "display_data"
    }
   ],
   "source": [
    "plt.figure(figsize = (20, 5))\n",
    "\n",
    "for i in range(3):\n",
    "    plt.subplot(1,3,i+1)\n",
    "    plt.loglog(module.wavenumber, sim_preds[i], lw = 4, label = 'CLASS')\n",
    "    plt.loglog(module.wavenumber, emu_preds[i], lw = 4, label = 'GP', linestyle = '--')\n",
    "    plt.xlim(module.k_min, module.k_max)\n",
    "    plt.ylabel(r'$P_{\\textrm{lin}}(k)$', fontsize = fontSize)\n",
    "    plt.xlabel(r'$k\\,[\\textrm{Mpc}^{-1}]$', fontsize = fontSize)\n",
    "    plt.tick_params(axis='x', labelsize=fontSize)\n",
    "    plt.tick_params(axis='y', labelsize=fontSize)\n",
    "    plt.legend(loc = 'best',prop={'family':'sans-serif', 'size':15})\n",
    "plt.subplots_adjust(wspace = 0.35)\n",
    "plt.show()"
   ]
  },
  {
   "cell_type": "markdown",
   "metadata": {},
   "source": [
    "### Generate Many Points and Compute Residuals"
   ]
  },
  {
   "cell_type": "code",
   "execution_count": 55,
   "metadata": {},
   "outputs": [],
   "source": [
    "NTEST = 200"
   ]
  },
  {
   "cell_type": "code",
   "execution_count": 36,
   "metadata": {},
   "outputs": [],
   "source": [
    "points = generate_points(priors, NTEST)"
   ]
  },
  {
   "cell_type": "code",
   "execution_count": 37,
   "metadata": {},
   "outputs": [
    {
     "name": "stdout",
     "output_type": "stream",
     "text": [
      "CPU times: user 1.57 s, sys: 3.99 ms, total: 1.58 s\n",
      "Wall time: 1.58 s\n"
     ]
    }
   ],
   "source": [
    "%%time\n",
    "emu_preds = emulator_predictions(gps, points)"
   ]
  },
  {
   "cell_type": "code",
   "execution_count": 38,
   "metadata": {},
   "outputs": [
    {
     "name": "stdout",
     "output_type": "stream",
     "text": [
      "CPU times: user 1h 44min 59s, sys: 7.02 s, total: 1h 45min 6s\n",
      "Wall time: 15min 58s\n"
     ]
    }
   ],
   "source": [
    "%%time\n",
    "sim_preds = simulator_predictions(points)"
   ]
  },
  {
   "cell_type": "code",
   "execution_count": 40,
   "metadata": {},
   "outputs": [],
   "source": [
    "emu_preds = np.asarray(emu_preds) \n",
    "sim_preds = np.asarray(sim_preds)"
   ]
  },
  {
   "cell_type": "markdown",
   "metadata": {},
   "source": [
    "### Interpolation\n",
    "\n",
    "So we obtain smooth power spectrum, as a function of the wavenumber, $k$."
   ]
  },
  {
   "cell_type": "code",
   "execution_count": 41,
   "metadata": {},
   "outputs": [],
   "source": [
    "import scipy.interpolate as itp\n",
    "\n",
    "def interpolate(inputs: list) -> np.ndarray:\n",
    "    '''\n",
    "    Function to interpolate the power spectrum along the redshift axis\n",
    "    :param: inputs (list or tuple) : x values, y values and new values of x\n",
    "    :return: ynew (np.ndarray) : an array of the interpolated power spectra\n",
    "    '''\n",
    "\n",
    "    x, y, xnew = np.log(inputs[0]), np.log(inputs[1]), np.log(inputs[2])\n",
    "    spline = itp.splrep(x, y)\n",
    "    ynew = itp.splev(xnew, spline)\n",
    "    return np.exp(ynew)"
   ]
  },
  {
   "cell_type": "code",
   "execution_count": 42,
   "metadata": {},
   "outputs": [],
   "source": [
    "wavenumbers = module.wavenumber\n",
    "wavenumbers_new = np.geomspace(CONFIG.K_MIN, CONFIG.K_MAX, 1000)"
   ]
  },
  {
   "cell_type": "code",
   "execution_count": 44,
   "metadata": {},
   "outputs": [
    {
     "data": {
      "image/png": "[encoded data removed]",
      "text/plain": [
       "<Figure size 576x576 with 1 Axes>"
      ]
     },
     "metadata": {
      "needs_background": "light"
     },
     "output_type": "display_data"
    }
   ],
   "source": [
    "plt.figure(figsize = (8,8))\n",
    "plt.loglog(wavenumbers_new, interpolate([wavenumbers, emu_preds[0], wavenumbers_new]), lw = 4, label = 'CLASS')\n",
    "plt.loglog(wavenumbers_new, interpolate([wavenumbers, sim_preds[0], wavenumbers_new]), lw = 4, label = 'GP', linestyle = '--')\n",
    "plt.xlim(module.k_min, module.k_max)\n",
    "plt.ylabel(r'$P_{\\textrm{lin}}(k)$', fontsize = fontSize)\n",
    "plt.xlabel(r'$k\\,[\\textrm{Mpc}^{-1}]$', fontsize = fontSize)\n",
    "plt.tick_params(axis='x', labelsize=fontSize)\n",
    "plt.tick_params(axis='y', labelsize=fontSize)\n",
    "plt.legend(loc = 'best',prop={'family':'sans-serif', 'size':15})\n",
    "plt.show()"
   ]
  },
  {
   "cell_type": "code",
   "execution_count": 56,
   "metadata": {},
   "outputs": [],
   "source": [
    "emu_preds_int = np.asarray([interpolate([wavenumbers, emu_preds[i], wavenumbers_new]) for i in range(NTEST)])\n",
    "sim_preds_int = np.asarray([interpolate([wavenumbers, sim_preds[i], wavenumbers_new]) for i in range(NTEST)])"
   ]
  },
  {
   "cell_type": "code",
   "execution_count": 57,
   "metadata": {},
   "outputs": [],
   "source": [
    "diff = emu_preds_int - sim_preds_int\n",
    "frac = diff/sim_preds_int"
   ]
  },
  {
   "cell_type": "code",
   "execution_count": 58,
   "metadata": {},
   "outputs": [
    {
     "name": "stdout",
     "output_type": "stream",
     "text": [
      "Maximum percentage error: 3.86\n"
     ]
    }
   ],
   "source": [
    "print(f'Maximum percentage error: {np.amax(np.abs(frac)) * 100:.2f}')"
   ]
  },
  {
   "cell_type": "code",
   "execution_count": 59,
   "metadata": {},
   "outputs": [],
   "source": [
    "frac_mean = np.mean(frac, axis = 0)\n",
    "frac_std = np.std(frac, axis = 0)"
   ]
  },
  {
   "cell_type": "code",
   "execution_count": 77,
   "metadata": {},
   "outputs": [
    {
     "data": {
      "image/png": "[encoded data removed]",
      "text/plain": [
       "<Figure size 576x432 with 1 Axes>"
      ]
     },
     "metadata": {
      "needs_background": "light"
     },
     "output_type": "display_data"
    }
   ],
   "source": [
    "plt.figure(figsize = (8,6))\n",
    "plt.fill_between(wavenumbers_new, 100*(frac_mean + 3 * frac_std), 0, color = 'c', alpha = 0.2, label = r'$3\\sigma$')\n",
    "plt.fill_between(wavenumbers_new, 100*(frac_mean + 2 * frac_std), 0, color = 'c', alpha = 0.4, label = r'$2\\sigma$')\n",
    "plt.fill_between(wavenumbers_new, 100*(frac_mean + 1 * frac_std), 0, color = 'c', alpha = 0.6, label = r'$1\\sigma$')\n",
    "plt.xlim(min(module.wavenumber), max(module.wavenumber))\n",
    "plt.ylim(0.0, 5.0)\n",
    "plt.xscale('log')\n",
    "plt.ylabel(r'$\\frac{\\Delta P}{P} \\times 100$', fontsize = fontSize)\n",
    "plt.xlabel(r'$k\\,[\\textrm{Mpc}^{-1}]$', fontsize = fontSize)\n",
    "plt.tick_params(axis='x', labelsize=fontSize)\n",
    "plt.tick_params(axis='y', labelsize=fontSize)\n",
    "plt.legend(loc = 'upper left',prop={'family':'sans-serif', 'size':15})\n",
    "plt.show()"
   ]
  },
  {
   "cell_type": "markdown",
   "metadata": {},
   "source": [
    "# General Linear Matter Power Spectrum\n",
    "\n",
    "Here, we use the first equation to get linear matter power spectrum for any $\\sigma_{8}$ and $n_{s}$.\n",
    "\n",
    "To be merged with CCL."
   ]
  },
  {
   "cell_type": "code",
   "execution_count": 88,
   "metadata": {},
   "outputs": [],
   "source": [
    "import scipy"
   ]
  },
  {
   "cell_type": "code",
   "execution_count": 89,
   "metadata": {},
   "outputs": [],
   "source": [
    "def generate_prior(dictionary: dict) -> dict:\n",
    "    \"\"\"Generates the entity of each parameter by using scipy.stats function.\n",
    "\n",
    "    Args:\n",
    "        dictionary (dict): A dictionary with the specifications of the prior.\n",
    "\n",
    "    Returns:\n",
    "        dict: the prior distribution of the parameter.\n",
    "    \"\"\"\n",
    "    dist = getattr(scipy.stats, dictionary[\"distribution\"])(*dictionary[\"specs\"])\n",
    "    return dist\n",
    "\n",
    "def generate_cosmo_prior(config) -> dict:\n",
    "    \n",
    "    priors = {}\n",
    "\n",
    "    for param in CONFIG.COSMO:\n",
    "        priors[param] = generate_prior(CONFIG.PRIORS[param])\n",
    "\n",
    "    return priors"
   ]
  },
  {
   "cell_type": "code",
   "execution_count": 310,
   "metadata": {},
   "outputs": [],
   "source": [
    "class emuPredict(object):\n",
    "    def __init__(self, config, gps):\n",
    "        self.priors = generate_cosmo_prior(config.PRIORS)\n",
    "        self.gps = gps \n",
    "        self.config = config\n",
    "        self.wavenumber = torch.logspace(np.log10(config.K_MIN), np.log10(config.K_MAX), config.NWAVE)\n",
    "        \n",
    "    def check_prior(self, parameter: dict):\n",
    "        logprior = 0.0\n",
    "        for p in parameter:\n",
    "            logprior += self.priors[p].logpdf(parameter[p]) \n",
    "        if not np.isfinite(logprior):\n",
    "            print('Parameter is outside prior box.')\n",
    "            \n",
    "    def calculate_prefactor(self, parameter):\n",
    "        \"\"\"\n",
    "        parameter[0]: sigma8\n",
    "        parameter[1]: n_s\n",
    "        \"\"\"\n",
    "        pre_sigma8 = (parameter[0]/self.config.FIX_SIGMA8)**2\n",
    "        pre_ns = (self.wavenumber / self.config.FIX_K_PIVOT)**(parameter[1] - self.config.FIX_NS)\n",
    "        prefactor = pre_sigma8 * pre_ns\n",
    "        return prefactor\n",
    "    \n",
    "    def calculate_der_sigma8(self, cosmology, pklin_fix):\n",
    "        pre_sigma8 = (cosmology['sigma8']/self.config.FIX_SIGMA8)**2\n",
    "        \n",
    "        # the factor 1.0 arises due to the derivative calculation\n",
    "        pre_ns = (self.wavenumber / self.config.FIX_K_PIVOT)**(1.0 + cosmology['n_s'] - self.config.FIX_NS)\n",
    "        \n",
    "        grad_sigma8 = 2.0 * pre_sigma8 * pre_ns * pklin_fix\n",
    "        grad_ns = -self.config.FIX_NS * pre_sigma8 * pre_ns * pklin_fix \n",
    "        return grad_sigma8, grad_ns\n",
    "        \n",
    "    def calculate_gp_mean(self, redshift: float, parameter: dict):\n",
    "        self.check_prior(parameter)\n",
    "        param = torch.tensor([parameter['Omega_cdm'], parameter['Omega_b'], parameter['h'], redshift])\n",
    "        pred = torch.tensor([gps[i].predict_mean(param).data[0].item() for i in range(self.config.NWAVE)])\n",
    "        return pred\n",
    "    \n",
    "    def calculate_gp_gradient(self, redshift: float, parameter: dict):\n",
    "        self.check_prior(parameter)\n",
    "        param = torch.tensor([parameter['Omega_cdm'], parameter['Omega_b'], parameter['h'], redshift])\n",
    "        gradients = torch.vstack([self.gps[i].gradient(param) for i in range(self.config.NWAVE)]).numpy()\n",
    "        return gradients\n",
    "    \n",
    "    def calculate_gp_hessian(self, redshift: float, parameter: dict):\n",
    "        self.check_prior(parameter)\n",
    "        param = torch.tensor([parameter['Omega_cdm'], parameter['Omega_b'], parameter['h'], redshift])\n",
    "        hessian = torch.stack([self.gps[i].hessian(param) for i in range(self.config.NWAVE)]).numpy()\n",
    "        return hessian\n",
    "    \n",
    "    def calculate_mean_pklin(self, redshift: float, cosmo: dict):\n",
    "        \n",
    "        gp_cosmo = {'Omega_cdm': cosmology['Omega_cdm'],\n",
    "                'Omega_b': cosmology['Omega_b'],\n",
    "                'h': cosmology['h']}\n",
    "        \n",
    "        # extra parameters\n",
    "        pre_param = torch.tensor([cosmo['sigma8'], cosmo['n_s']])\n",
    "        \n",
    "        gp_mean = self.calculate_gp_mean(redshift, gp_cosmo)\n",
    "        prefactor = self.calculate_prefactor(pre_param)\n",
    "        pred_pklin = prefactor * gp_mean\n",
    "        return pred_pklin.numpy()\n",
    "    \n",
    "    def calculate_gradient_pklin(self, redshift, cosmo: dict):\n",
    "        gp_cosmo = {'Omega_cdm': cosmology['Omega_cdm'],\n",
    "                'Omega_b': cosmology['Omega_b'],\n",
    "                'h': cosmology['h']}\n",
    "        \n",
    "        gp_gradient = self.calculate_gp_gradient(redshift, gp_cosmo)\n",
    "        gp_mean = self.calculate_gp_mean(redshift, gp_cosmo)\n",
    "        \n",
    "        # calculate the term containing sigma8 and n_s\n",
    "        pre_param = torch.tensor([cosmo['sigma8'], cosmo['n_s']])\n",
    "        prefactor = self.calculate_prefactor(pre_param).view(-1, 1)\n",
    "        \n",
    "        # the derivatives of sigma8 and n_s are hardcoded \n",
    "        grad_sigma8, grad_ns = self.calculate_der_sigma8(cosmo, gp_mean)\n",
    "        \n",
    "        # the derivatives of the other parameters\n",
    "        grads = prefactor * gp_gradient\n",
    "        \n",
    "        # dictionary to output all derivatives \n",
    "        gradients = {}\n",
    "        gradients['sigma8'] = grad_sigma8.numpy()\n",
    "        gradients['n_s'] = grad_ns.numpy()\n",
    "        gradients['Omega_cdm'] = grads[:,0].numpy()\n",
    "        gradients['Omega_b'] = grads[:,1].numpy()\n",
    "        gradients['h'] = grads[:,2].numpy()\n",
    "        gradients['z'] = grads[:,3].numpy()\n",
    "        return gradients"
   ]
  },
  {
   "cell_type": "code",
   "execution_count": 311,
   "metadata": {},
   "outputs": [],
   "source": [
    "testing = emuPredict(CONFIG, gps)"
   ]
  },
  {
   "cell_type": "code",
   "execution_count": 312,
   "metadata": {},
   "outputs": [],
   "source": [
    "cosmogp = {'Omega_cdm': 0.25, 'Omega_b': 0.04, 'h': 0.70}\n",
    "cosmology = {'Omega_cdm': 0.25, 'Omega_b': 0.04, 'h': 0.70, 'n_s': 1.0, 'sigma8': 0.75}"
   ]
  },
  {
   "cell_type": "code",
   "execution_count": 314,
   "metadata": {},
   "outputs": [],
   "source": [
    "gp_mean = testing.calculate_gp_mean(0.0, cosmogp)\n",
    "gp_gradient = testing.calculate_gp_gradient(0.0, cosmogp)\n",
    "gp_hessian = testing.calculate_gp_hessian(0.0, cosmogp)"
   ]
  },
  {
   "cell_type": "code",
   "execution_count": 323,
   "metadata": {},
   "outputs": [],
   "source": [
    "pklin = testing.calculate_mean_pklin(0.0, cosmology)\n",
    "gradients = testing.calculate_gradient_pklin(0.0, cosmology)"
   ]
  },
  {
   "cell_type": "code",
   "execution_count": 324,
   "metadata": {},
   "outputs": [
    {
     "data": {
      "image/png": "[encoded data removed]",
      "text/plain": [
       "<Figure size 432x288 with 1 Axes>"
      ]
     },
     "metadata": {
      "needs_background": "light"
     },
     "output_type": "display_data"
    }
   ],
   "source": [
    "plt.figure()\n",
    "plt.plot(testing.wavenumber, gradients['Omega_cdm'])\n",
    "plt.xscale('log')\n",
    "plt.ticklabel_format(axis='y', style='sci', scilimits=(0,4))\n",
    "plt.show()"
   ]
  },
  {
   "cell_type": "code",
   "execution_count": null,
   "metadata": {},
   "outputs": [],
   "source": []
  }
 ],
 "metadata": {
  "kernelspec": {
   "display_name": "Python 3",
   "language": "python",
   "name": "python3"
  },
  "language_info": {
   "codemirror_mode": {
    "name": "ipython",
    "version": 3
   },
   "file_extension": ".py",
   "mimetype": "text/x-python",
   "name": "python",
   "nbconvert_exporter": "python",
   "pygments_lexer": "ipython3",
   "version": "3.7.6"
  }
 },
 "nbformat": 4,
 "nbformat_minor": 4
}
